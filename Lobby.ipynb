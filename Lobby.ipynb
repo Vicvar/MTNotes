{
 "cells": [
  {
   "cell_type": "code",
   "execution_count": 2,
   "metadata": {},
   "outputs": [],
   "source": [
    "import requests\n",
    "import time\n",
    "import json\n",
    "import threading"
   ]
  },
  {
   "cell_type": "code",
   "execution_count": 4,
   "metadata": {},
   "outputs": [],
   "source": [
    "root = 'http://www.leylobby.gob.cl/api/v1'\n",
    "apikey = \"$2y$10$2g/G3Jf9W6gKhR2vvDVSwOv207mF7s/MUjKoaJRFUyT\"\n",
    "headers = {'User-Agent':'Mozilla/5.0','Api-Key':'$2y$10$2g/G3Jf9W6gKhR2vvDVSwOv207mF7s/MUjKoaJRFUyT'}"
   ]
  },
  {
   "cell_type": "code",
   "execution_count": 3,
   "metadata": {},
   "outputs": [],
   "source": [
    "root_res = requests.get(root,headers=headers)"
   ]
  },
  {
   "cell_type": "code",
   "execution_count": 4,
   "metadata": {},
   "outputs": [
    {
     "name": "stdout",
     "output_type": "stream",
     "text": [
      "https://www.leylobby.gob.cl/api/v1/cargos-activos\n",
      "https://www.leylobby.gob.cl/api/v1/cargos-pasivos\n",
      "https://www.leylobby.gob.cl/api/v1/audiencias\n",
      "https://www.leylobby.gob.cl/api/v1/donativos\n",
      "https://www.leylobby.gob.cl/api/v1/viajes\n",
      "https://www.leylobby.gob.cl/api/v1/instituciones\n"
     ]
    }
   ],
   "source": [
    "content = root_res.json()\n",
    "for c in content:\n",
    "    print(content[c])"
   ]
  },
  {
   "cell_type": "code",
   "execution_count": 5,
   "metadata": {},
   "outputs": [],
   "source": [
    "def getData(page, psize=10000):\n",
    "    #make first request to get number of pages\n",
    "    fails = []\n",
    "    start = time.time()\n",
    "    fname = page.split('/')[-1]\n",
    "    print('Getting ',fname)\n",
    "    result = requests.get(page+'?per_page='+str(psize), headers = headers)\n",
    "    res_json = result.json()\n",
    "    npages = res_json['last_page']\n",
    "    print('Number of resuts:',res_json['total'])\n",
    "    print('At',psize,'results per page, number of pages:',npages)\n",
    "    #init results\n",
    "    data = []\n",
    "    data = res_json['data']\n",
    "    #make request for each remaining page\n",
    "    for i in range(2, npages+1):\n",
    "        t = (time.time()-start)/60\n",
    "        print('Getting page',i,'/',npages,'of',fname,'at',\"{:.2f}\".format(t),'min since start',end='\\r', flush = True)\n",
    "        result = requests.get(page+'?per_page='+str(psize)+'&page='+str(i), headers = headers)\n",
    "        #save results\n",
    "        try:\n",
    "            data = data + result.json()['data']\n",
    "        except:\n",
    "            fails.append(i)\n",
    "            print('')\n",
    "            print('page', i,'of',fname, 'failed')\n",
    "    #store results\n",
    "    print('')\n",
    "    print('Storing to file:',fname,'.json')\n",
    "    file = open('Lobby/'+fname+'.json','w')\n",
    "    json.dump(data,file)\n",
    "    file.close()\n",
    "    t = (time.time()-start)/60\n",
    "    print('')\n",
    "    print(fname,'done in:',\"{:.2f}\".format(t),'min')\n",
    "    print(len(fails), 'pages failed with page size:', psize, '\\n', fails)"
   ]
  },
  {
   "cell_type": "code",
   "execution_count": null,
   "metadata": {},
   "outputs": [
    {
     "name": "stdout",
     "output_type": "stream",
     "text": [
      "Getting  cargos-activos\n",
      "Number of resuts: 255741\n",
      "At 10000 results per page, number of pages: 26\n",
      "Getting page 26 / 26 of cargos-activos at 18.31 min since start\n",
      "Storing to file: cargos-activos .json\n",
      "\n",
      "cargos-activos done in: 19.05 min\n",
      "0 pages failed with page size: 10000 \n",
      " []\n",
      "Getting  cargos-pasivos\n",
      "Number of resuts: 246219\n",
      "At 1000 results per page, number of pages: 247\n",
      "Getting page 16 / 247 of cargos-pasivos at 0.50 min since start\n",
      "page 16 of cargos-pasivos failed\n",
      "Getting page 19 / 247 of cargos-pasivos at 0.59 min since start\n",
      "page 19 of cargos-pasivos failed\n",
      "Getting page 22 / 247 of cargos-pasivos at 0.68 min since start\n",
      "page 22 of cargos-pasivos failed\n",
      "Getting page 23 / 247 of cargos-pasivos at 0.70 min since start\n",
      "page 23 of cargos-pasivos failed\n",
      "Getting page 25 / 247 of cargos-pasivos at 0.75 min since start\n",
      "page 25 of cargos-pasivos failed\n",
      "Getting page 26 / 247 of cargos-pasivos at 0.77 min since start\n",
      "page 26 of cargos-pasivos failed\n",
      "Getting page 247 / 247 of cargos-pasivos at 8.65 min since start\n",
      "Storing to file: cargos-pasivos .json\n",
      "\n",
      "cargos-pasivos done in: 8.91 min\n",
      "6 pages failed with page size: 1000 \n",
      " [16, 19, 22, 23, 25, 26]\n",
      "Getting  audiencias\n",
      "Number of resuts: 335509\n",
      "At 10000 results per page, number of pages: 34\n",
      "Getting page 34 / 34 of audiencias at 6.98 min since start\n",
      "Storing to file: audiencias .json\n",
      "\n",
      "audiencias done in: 7.47 min\n",
      "0 pages failed with page size: 10000 \n",
      " []\n",
      "Getting  donativos\n",
      "Number of resuts: 31041\n",
      "At 10000 results per page, number of pages: 4\n",
      "Getting page 4 / 4 of donativos at 0.44 min since start\n",
      "Storing to file: donativos .json\n",
      "\n",
      "donativos done in: 0.51 min\n",
      "0 pages failed with page size: 10000 \n",
      " []\n",
      "Getting  viajes\n",
      "Number of resuts: 346104\n",
      "At 10000 results per page, number of pages: 35\n",
      "Getting page 25 / 35 of viajes at 4.98 min since start\r"
     ]
    }
   ],
   "source": [
    "\n",
    "pages=[10000,1000,10000,10000,10000,10000]\n",
    "i=0\n",
    "for c in content:\n",
    "    start = time.time()\n",
    "    getData(content[c],pages[i])\n",
    "    #th = threading.Thread(target = getData, args = (content[c],pages[i]))\n",
    "    #th.start()\n",
    "    i+=1\n",
    "\n",
    "t = (time.time()-start)/60    \n",
    "print('All done in',\"{:.2f}\".format(t),'min')\n"
   ]
  },
  {
   "cell_type": "code",
   "execution_count": 7,
   "metadata": {},
   "outputs": [
    {
     "name": "stdout",
     "output_type": "stream",
     "text": [
      "Getting  viajes\n",
      "Number of resuts: 346104\n",
      "At 10000 results per page, number of pages: 35\n",
      "Getting page 35 / 35 of viajes at 7.22 min since start\n",
      "Storing to file: viajes .json\n",
      "\n",
      "viajes done in: 7.75 min\n",
      "0 pages failed with page size: 10000 \n",
      " []\n",
      "Getting  instituciones\n",
      "Number of resuts: 689\n",
      "At 10000 results per page, number of pages: 1\n",
      "\n",
      "Storing to file: instituciones .json\n",
      "\n",
      "instituciones done in: 0.03 min\n",
      "0 pages failed with page size: 10000 \n",
      " []\n"
     ]
    }
   ],
   "source": [
    "getData('https://www.leylobby.gob.cl/api/v1/viajes',10000)\n",
    "getData('https://www.leylobby.gob.cl/api/v1/instituciones',10000)"
   ]
  },
  {
   "cell_type": "code",
   "execution_count": 37,
   "metadata": {},
   "outputs": [],
   "source": [
    "#Terminar e recolectar cargos pasivos\n",
    "cp_base = \"https://www.leylobby.gob.cl/api/v1/cargos-pasivos\"\n",
    "def getFailed(pnum, psize, fails):\n",
    "    data = []\n",
    "    for i in range(psize*(pnum-1)+1,psize*pnum+1):\n",
    "        result = requests.get(cp_base+'?per_page=1&page='+str(i), headers = headers)\n",
    "        try:\n",
    "            #print(\"Entry\",i,\"retrieved\")\n",
    "            data += result.json()['data']\n",
    "        except:\n",
    "            print(\"Entry\",i,\"cannot be retrieved\")\n",
    "            fails.append(i)\n",
    "    return data\n",
    "    \n",
    "    \n",
    "#    if size == 1:\n",
    "#        result = requests.get(cp_base+'?per_page='+str(psize)+'&page='+str(pnumb), headers = headers)\n",
    "#        try:\n",
    "#            data = data +result.json()['data']\n",
    "#        except:\n",
    "#            print(\"Entry number\",pnumb,\"cannot be retrieved\")\n",
    "#    else:\n",
    "#        if psize%2 == 0:\n",
    "#            new_psize1 = new_psize2 = psize/2\n",
    "#            new_pnum1 = pnumb*2\n",
    "#            new_pnum2 = new_pnumb -1\n",
    "#        else:\n",
    "#            new_psize1 = psize//2\n",
    "#            new_psize2 = new_psize1 + 1\n",
    "            "
   ]
  },
  {
   "cell_type": "code",
   "execution_count": 38,
   "metadata": {},
   "outputs": [
    {
     "name": "stdout",
     "output_type": "stream",
     "text": [
      "Entry 15054 cannot be retrieved\n",
      "Entry 18917 cannot be retrieved\n",
      "Entry 18922 cannot be retrieved\n",
      "Entry 21138 cannot be retrieved\n",
      "Entry 22320 cannot be retrieved\n",
      "Entry 24148 cannot be retrieved\n",
      "Entry 24154 cannot be retrieved\n",
      "Entry 25074 cannot be retrieved\n",
      "Elapsed time: 1019.5776851177216\n"
     ]
    }
   ],
   "source": [
    "pnums = [16, 19, 22, 23, 25, 26]\n",
    "fails = []\n",
    "data = []\n",
    "\n",
    "for i in pnums:\n",
    "    s = time.time()\n",
    "    data += getFailed(i,1000,fails)\n",
    "print(\"Elapsed time:\",time.time()-s)"
   ]
  },
  {
   "cell_type": "code",
   "execution_count": 41,
   "metadata": {},
   "outputs": [],
   "source": [
    "file = open('Lobby/r_cargos-pasivos.json','w')\n",
    "json.dump(data,file)\n",
    "file.close()"
   ]
  },
  {
   "cell_type": "code",
   "execution_count": 39,
   "metadata": {},
   "outputs": [
    {
     "name": "stdout",
     "output_type": "stream",
     "text": [
      "[15054, 18917, 18922, 21138, 22320, 24148, 24154, 25074]\n"
     ]
    }
   ],
   "source": [
    "print(fails)"
   ]
  },
  {
   "cell_type": "code",
   "execution_count": 11,
   "metadata": {},
   "outputs": [
    {
     "name": "stdout",
     "output_type": "stream",
     "text": [
      "{'id_donativo': '125', 'id_cargo_pasivo': '219', 'nombres': 'Ximena Cecilia ', 'apellidos': 'Rincon Gonzalez', 'pais': 'CHL', 'cargo': 'Ministro(a)', 'ocasion': 'Regalo Navidad ', 'descripcion': 'Publicación del Museo Histórico Nacional  y tarjeta navideña', 'fecha': '2014-12-18', 'sujeto_pasivo_url': 'https://www.leylobby.gob.cl/api/v1/cargos-pasivos/316', 'institucion_url': 'https://www.leylobby.gob.cl/api/v1/instituciones/157', 'institucion': {'codigo': 'AF001', 'nombre': 'Subsecretaría General de la Presidencia'}, 'donantes': [{'id_donativo': '125', 'nombre': 'Museo Histórico Nacional', 'pais': 'CHL', 'tipo': 'persona_juridica', 'giro': None, 'actividades': '', 'domicilio': None, 'representante_legal': None, 'naturaleza': None, 'directorio': None}]}\n"
     ]
    }
   ],
   "source": [
    "#test\n",
    "data = []\n",
    "result = requests.get(\"https://www.leylobby.gob.cl/api/v1/donativos/125\", headers = headers)\n",
    "print(result.json())\n",
    "data+=[result.json()]"
   ]
  },
  {
   "cell_type": "code",
   "execution_count": 9,
   "metadata": {},
   "outputs": [
    {
     "name": "stdout",
     "output_type": "stream",
     "text": [
      "[{'id_donativo': '125', 'id_cargo_pasivo': '219', 'nombres': 'Ximena Cecilia ', 'apellidos': 'Rincon Gonzalez', 'pais': 'CHL', 'cargo': 'Ministro(a)', 'ocasion': 'Regalo Navidad ', 'descripcion': 'Publicación del Museo Histórico Nacional  y tarjeta navideña', 'fecha': '2014-12-18', 'sujeto_pasivo_url': 'https://www.leylobby.gob.cl/api/v1/cargos-pasivos/316', 'institucion_url': 'https://www.leylobby.gob.cl/api/v1/instituciones/157', 'institucion': {'codigo': 'AF001', 'nombre': 'Subsecretaría General de la Presidencia'}, 'donantes': [{'id_donativo': '125', 'nombre': 'Museo Histórico Nacional', 'pais': 'CHL', 'tipo': 'persona_juridica', 'giro': None, 'actividades': '', 'domicilio': None, 'representante_legal': None, 'naturaleza': None, 'directorio': None}]}]\n"
     ]
    }
   ],
   "source": [
    "print(data)"
   ]
  },
  {
   "cell_type": "markdown",
   "metadata": {},
   "source": [
    "De los resultados obtenidos, faltan detalles de audiencias, viajes y donativos.\n",
    "* Audiencias se pueden obtener directamente\n",
    "* Viajes y donativos tienen ids incorrectas en la url\n",
    "    * Se puede sacar todos los urls hasta tener todos los donativos (no existen todos los ids como url)"
   ]
  },
  {
   "cell_type": "code",
   "execution_count": null,
   "metadata": {},
   "outputs": [],
   "source": [
    "#Obtención de audiencias\n",
    "daud_url = \"https://www.leylobby.gob.cl/api/v1/audiencias/\""
   ]
  },
  {
   "cell_type": "code",
   "execution_count": null,
   "metadata": {},
   "outputs": [],
   "source": [
    "#Getting Donativos by url - takes around 10h\n",
    "ddon_url = \"https://www.leylobby.gob.cl/api/v1/donativos/\"\n",
    "\n",
    "total = 0\n",
    "invalid = 0\n",
    "i = 0\n",
    "data = []\n",
    "start = time.time()\n",
    "while total < 31069:\n",
    "    result = requests.get(ddon_url+str(i), headers = headers)\n",
    "    try:\n",
    "        total+=1\n",
    "        data+=[result.json()]\n",
    "    except:\n",
    "        invalid+=1\n",
    "        total-=1\n",
    "    i+=1\n",
    "    if((time.time()-start)>36000):\n",
    "        break\n",
    "tot_time = time.time()-start\n",
    "print(tot_time)"
   ]
  },
  {
   "cell_type": "code",
   "execution_count": null,
   "metadata": {},
   "outputs": [],
   "source": []
  }
 ],
 "metadata": {
  "kernelspec": {
   "display_name": "Python 3",
   "language": "python",
   "name": "python3"
  },
  "language_info": {
   "codemirror_mode": {
    "name": "ipython",
    "version": 3
   },
   "file_extension": ".py",
   "mimetype": "text/x-python",
   "name": "python",
   "nbconvert_exporter": "python",
   "pygments_lexer": "ipython3",
   "version": "3.6.5"
  }
 },
 "nbformat": 4,
 "nbformat_minor": 2
}
