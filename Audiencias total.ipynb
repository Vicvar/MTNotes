{
 "cells": [
  {
   "cell_type": "code",
   "execution_count": 1,
   "metadata": {},
   "outputs": [
    {
     "name": "stderr",
     "output_type": "stream",
     "text": [
      "/home/vicente/anaconda3/lib/python3.6/site-packages/grequests.py:21: MonkeyPatchWarning: Monkey-patching ssl after ssl has already been imported may lead to errors, including RecursionError on Python 3.6. Please monkey-patch earlier. See https://github.com/gevent/gevent/issues/1016\n",
      "  curious_george.patch_all(thread=False, select=False)\n"
     ]
    }
   ],
   "source": [
    "import time\n",
    "import grequests\n",
    "import json"
   ]
  },
  {
   "cell_type": "code",
   "execution_count": 2,
   "metadata": {},
   "outputs": [
    {
     "name": "stdout",
     "output_type": "stream",
     "text": [
      "335509\n",
      "335509\n",
      "https://www.leylobby.gob.cl/api/v1/audiencias/1\n"
     ]
    }
   ],
   "source": [
    "apikey = \"$2y$10$2g/G3Jf9W6gKhR2vvDVSwOv207mF7s/MUjKoaJRFUyT\"\n",
    "headers = {'User-Agent':'Mozilla/5.0','Api-Key':'$2y$10$2g/G3Jf9W6gKhR2vvDVSwOv207mF7s/MUjKoaJRFUyT'}\n",
    "aud_or = open(\"Lobby/last run/audiencias.json\")\n",
    "aud_or_json = json.load(aud_or)\n",
    "print(len(aud_or_json))\n",
    "urls = []\n",
    "for aud in aud_or_json:\n",
    "    urls += [aud['detalles_url']]\n",
    "print(len(urls))\n",
    "print(urls[0])\n",
    "aud_or.close()"
   ]
  },
  {
   "cell_type": "code",
   "execution_count": 3,
   "metadata": {},
   "outputs": [],
   "source": [
    "#for time test\n",
    "sample_urls = urls[:1000]"
   ]
  },
  {
   "cell_type": "code",
   "execution_count": 4,
   "metadata": {},
   "outputs": [
    {
     "name": "stdout",
     "output_type": "stream",
     "text": [
      "1000\n",
      "https://www.leylobby.gob.cl/api/v1/audiencias/1\n"
     ]
    }
   ],
   "source": [
    "print(len(sample_urls))\n",
    "print(sample_urls[0])"
   ]
  },
  {
   "cell_type": "code",
   "execution_count": 5,
   "metadata": {},
   "outputs": [],
   "source": [
    "def handler(request, exception):\n",
    "    print(\"Request\", request, \"failed\")"
   ]
  },
  {
   "cell_type": "code",
   "execution_count": 6,
   "metadata": {},
   "outputs": [
    {
     "name": "stdout",
     "output_type": "stream",
     "text": [
      "100   68.91295051574707\n",
      "200   137.2537817955017\n",
      "300   206.82548475265503\n",
      "400   275.23466396331787\n",
      "500   343.49389362335205\n",
      "600   411.95664262771606\n",
      "700   480.31843638420105\n",
      "800   548.9785203933716\n",
      "900   617.2263514995575\n",
      "storing results\n",
      "1000   686.1428468227386\n",
      "1100   754.722984790802\n",
      "1200   823.1701989173889\n",
      "1300   892.1116893291473\n",
      "1400   960.3636772632599\n",
      "1500   1029.591821193695\n",
      "1600   1098.0262248516083\n",
      "1700   1166.4068672657013\n",
      "1800   1235.3107681274414\n",
      "1900   1304.2079277038574\n",
      "storing results\n",
      "2000   1372.9061353206635\n",
      "2100   1441.5478067398071\n",
      "2200   1509.9865083694458\n",
      "2300   1578.1392796039581\n",
      "2400   1647.0124962329865\n",
      "2500   1771.6229479312897\n",
      "2600   1839.806744813919\n",
      "2700   1908.6773867607117\n",
      "2800   1977.5945796966553\n",
      "2900   2047.220495223999\n",
      "storing results\n",
      "3000   2116.260173559189\n",
      "3100   2184.8287677764893\n",
      "3200   2253.797813653946\n",
      "3300   2322.5872218608856\n",
      "3400   2390.9109444618225\n",
      "3500   2459.8631720542908\n",
      "3600   2528.647483587265\n",
      "3700   2597.087784767151\n",
      "3800   2665.5848717689514\n",
      "3900   2734.3638479709625\n",
      "storing results\n",
      "4000   2803.454046010971\n",
      "4100   2873.175584077835\n",
      "4200   2942.0135650634766\n",
      "4300   3011.0018055438995\n",
      "4400   3080.1495406627655\n",
      "4500   3149.1387135982513\n",
      "4600   3217.9454917907715\n",
      "4700   3286.9786036014557\n",
      "4800   3355.7290375232697\n",
      "4900   3424.9221353530884\n",
      "storing results\n",
      "5000   3493.6998193264008\n",
      "5100   3562.3567163944244\n",
      "5200   3630.6176567077637\n",
      "5300   3699.6786189079285\n",
      "5400   3768.4576604366302\n",
      "5500   3838.658495903015\n",
      "5600   3907.3135702610016\n",
      "5700   3975.963236093521\n",
      "5800   4045.090183734894\n",
      "5900   4113.67902970314\n",
      "storing results\n",
      "6000   4182.8810312747955\n",
      "6100   4252.0454018116\n",
      "6200   4321.636517047882\n",
      "6300   4390.5359790325165\n",
      "6400   4459.5560138225555\n",
      "6500   4528.215441226959\n",
      "6600   4597.347841024399\n",
      "6700   4665.705039978027\n",
      "6800   4734.500008821487\n",
      "6900   4803.3206441402435\n",
      "storing results\n",
      "7000   4872.654501676559\n",
      "7100   4941.329427957535\n",
      "7200   5009.883555173874\n",
      "7300   5078.718237161636\n",
      "7400   5147.9428679943085\n",
      "7500   5170.309996366501\n",
      "7600   5274.3878865242\n",
      "7700   5342.93670129776\n",
      "7800   5412.749743461609\n",
      "7900   5481.560101985931\n",
      "storing results\n",
      "8000   5550.112490653992\n",
      "8100   5619.044014930725\n",
      "8200   5687.964325666428\n",
      "8300   5756.435509443283\n",
      "8400   5825.637479543686\n",
      "8500   5894.967237234116\n",
      "8600   5940.469418525696\n",
      "8700   6017.131188154221\n",
      "8800   6085.433788776398\n",
      "8900   6154.144157648087\n",
      "storing results\n",
      "9000   6223.270963191986\n",
      "9100   6292.190141916275\n",
      "9200   6361.026840209961\n",
      "9300   6430.145399570465\n",
      "9400   6500.4561722278595\n",
      "9500   6569.506725311279\n",
      "9600   6638.596251010895\n",
      "9700   6707.758853435516\n",
      "9800   6776.460503816605\n",
      "9900   6845.259655237198\n",
      "storing results\n",
      "10000   6883.986119270325\n",
      "final: 6883.9889369010925\n"
     ]
    }
   ],
   "source": [
    "urlstart = 10000\n",
    "reqs = (grequests.get(aud, headers = headers, stream = False) for aud in urls[urlstart:20000])\n",
    "data = []\n",
    "err = []\n",
    "size=100\n",
    "start = time.time()\n",
    "responses = grequests.imap(reqs, exception_handler = handler, size=size)\n",
    "i = 1\n",
    "for response in responses:\n",
    "    try:\n",
    "        data += [response.json()]\n",
    "    except:\n",
    "        print(\"Response is invalid as json\")\n",
    "        err += [response]\n",
    "    response.close()\n",
    "    i+=1\n",
    "    if (i%size == 0):\n",
    "        print(i,\" \",time.time()-start)\n",
    "    if ((i+1)%1000 == 0):\n",
    "        print(\"storing results\")\n",
    "        file = open(\"Lobby/audiencias_detalladas_faltantes_\"+str(i//1000+1)+\".json\", \"w\")\n",
    "        json.dump(data,file)\n",
    "        file.close()\n",
    "        data = []\n",
    "print(\"final:\",time.time()-start)"
   ]
  },
  {
   "cell_type": "code",
   "execution_count": 7,
   "metadata": {},
   "outputs": [
    {
     "name": "stdout",
     "output_type": "stream",
     "text": [
      "2\n",
      "{'id_audiencia': '20376', 'id_cargo_pasivo': '3439', 'id_institucion': '269', 'nombres': 'Jorge Alejandro', 'apellidos': 'Saffirio Espinoza', 'cargo': 'Director Regional ', 'referencia': 'Solicitan ser atendidos por la  le Entidad Patrocinante Serviu, ya que por tratarse de postulaciones individuales han sido rechazadas por otras E.P.', 'forma': 'P', 'lugar': 'Serviu IX Región 2° piso', 'comuna': 'Temuco', 'fecha_inicio': '2015-10-22 09:00:00', 'fecha_termino': '2015-10-22 10:00:00', 'sujeto_pasivo_url': 'https://www.leylobby.gob.cl/api/v1/cargos-pasivos/3439', 'institucion_url': 'https://www.leylobby.gob.cl/api/v1/instituciones/269', 'asistentes': [{'id_audiencia': '20376', 'id_cargo_activo': '47340', 'nombres': 'Marcela', 'apellidos': 'Zaravia Zaravia', 'cargo_activo_url': 'https://www.leylobby.gob.cl/api/v1/cargos-activos/47340', 'representa': {'nombre': 'Marcela Zaravia Zaravia', 'tipo': 'persona_natural', 'pais': 'CHL', 'giro': '', 'domicilio': '', 'representante_legal': '', 'naturaleza': '', 'directorio': ''}}, {'id_audiencia': '20376', 'id_cargo_activo': '47341', 'nombres': 'Maria', 'apellidos': 'Sereceda Rojas', 'cargo_activo_url': 'https://www.leylobby.gob.cl/api/v1/cargos-activos/47341', 'representa': {'nombre': 'Maria Sereceda Rojas', 'tipo': 'persona_natural', 'pais': 'CHL', 'giro': '', 'domicilio': '', 'representante_legal': '', 'naturaleza': '', 'directorio': ''}}], 'materias': [{'nombre': 'Ninguna de las anteriores'}]}\n"
     ]
    }
   ],
   "source": [
    "print(len(data))\n",
    "print(data[0])"
   ]
  },
  {
   "cell_type": "code",
   "execution_count": 8,
   "metadata": {},
   "outputs": [],
   "source": [
    "file = open(\"Lobby/audiencias_detalladas_faltantes_final.json\",\"w\")\n",
    "json.dump(data,file)\n",
    "file.close()"
   ]
  },
  {
   "cell_type": "code",
   "execution_count": null,
   "metadata": {},
   "outputs": [],
   "source": []
  }
 ],
 "metadata": {
  "kernelspec": {
   "display_name": "Python 3",
   "language": "python",
   "name": "python3"
  },
  "language_info": {
   "codemirror_mode": {
    "name": "ipython",
    "version": 3
   },
   "file_extension": ".py",
   "mimetype": "text/x-python",
   "name": "python",
   "nbconvert_exporter": "python",
   "pygments_lexer": "ipython3",
   "version": "3.6.5"
  }
 },
 "nbformat": 4,
 "nbformat_minor": 2
}
